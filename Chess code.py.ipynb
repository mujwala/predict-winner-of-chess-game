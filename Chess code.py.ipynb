{
 "cells": [
  {
   "cell_type": "code",
   "execution_count": 3,
   "id": "f8145024",
   "metadata": {},
   "outputs": [],
   "source": [
    "#Used basic libraries\n",
    "import numpy as np\n",
    "import pandas as pd\n",
    "import seaborn as sns"
   ]
  },
  {
   "cell_type": "code",
   "execution_count": 4,
   "id": "8c11bcab",
   "metadata": {},
   "outputs": [],
   "source": [
    "#Reading the dataset\n",
    "df = pd.read_csv(\"games.csv\")"
   ]
  },
  {
   "cell_type": "code",
   "execution_count": 5,
   "id": "ec52b271",
   "metadata": {},
   "outputs": [],
   "source": [
    "from sklearn.preprocessing import LabelEncoder     #Converting 'winner' column to categorical to predict winner\n",
    "LE = LabelEncoder()\n",
    "df['winner_cat'] = LE.fit_transform(df['winner'])\n",
    "df.drop([\"winner\"], axis=1, inplace=True)\n",
    "df.rename(columns = {\"winner_cat\":\"winner\"}, inplace = True)"
   ]
  },
  {
   "cell_type": "markdown",
   "id": "d44bb349",
   "metadata": {},
   "source": [
    "## Data Analysis"
   ]
  },
  {
   "cell_type": "code",
   "execution_count": 6,
   "id": "949e7595",
   "metadata": {},
   "outputs": [
    {
     "data": {
      "text/html": [
       "<div>\n",
       "<style scoped>\n",
       "    .dataframe tbody tr th:only-of-type {\n",
       "        vertical-align: middle;\n",
       "    }\n",
       "\n",
       "    .dataframe tbody tr th {\n",
       "        vertical-align: top;\n",
       "    }\n",
       "\n",
       "    .dataframe thead th {\n",
       "        text-align: right;\n",
       "    }\n",
       "</style>\n",
       "<table border=\"1\" class=\"dataframe\">\n",
       "  <thead>\n",
       "    <tr style=\"text-align: right;\">\n",
       "      <th></th>\n",
       "      <th>id</th>\n",
       "      <th>rated</th>\n",
       "      <th>created_at</th>\n",
       "      <th>last_move_at</th>\n",
       "      <th>turns</th>\n",
       "      <th>victory_status</th>\n",
       "      <th>increment_code</th>\n",
       "      <th>white_id</th>\n",
       "      <th>white_rating</th>\n",
       "      <th>black_id</th>\n",
       "      <th>black_rating</th>\n",
       "      <th>moves</th>\n",
       "      <th>opening_eco</th>\n",
       "      <th>opening_name</th>\n",
       "      <th>opening_ply</th>\n",
       "      <th>winner</th>\n",
       "    </tr>\n",
       "  </thead>\n",
       "  <tbody>\n",
       "    <tr>\n",
       "      <th>0</th>\n",
       "      <td>TZJHLljE</td>\n",
       "      <td>False</td>\n",
       "      <td>1.504210e+12</td>\n",
       "      <td>1.504210e+12</td>\n",
       "      <td>13</td>\n",
       "      <td>outoftime</td>\n",
       "      <td>15+2</td>\n",
       "      <td>bourgris</td>\n",
       "      <td>1500</td>\n",
       "      <td>a-00</td>\n",
       "      <td>1191</td>\n",
       "      <td>d4 d5 c4 c6 cxd5 e6 dxe6 fxe6 Nf3 Bb4+ Nc3 Ba5...</td>\n",
       "      <td>D10</td>\n",
       "      <td>Slav Defense: Exchange Variation</td>\n",
       "      <td>5</td>\n",
       "      <td>2</td>\n",
       "    </tr>\n",
       "    <tr>\n",
       "      <th>1</th>\n",
       "      <td>l1NXvwaE</td>\n",
       "      <td>True</td>\n",
       "      <td>1.504130e+12</td>\n",
       "      <td>1.504130e+12</td>\n",
       "      <td>16</td>\n",
       "      <td>resign</td>\n",
       "      <td>5+10</td>\n",
       "      <td>a-00</td>\n",
       "      <td>1322</td>\n",
       "      <td>skinnerua</td>\n",
       "      <td>1261</td>\n",
       "      <td>d4 Nc6 e4 e5 f4 f6 dxe5 fxe5 fxe5 Nxe5 Qd4 Nc6...</td>\n",
       "      <td>B00</td>\n",
       "      <td>Nimzowitsch Defense: Kennedy Variation</td>\n",
       "      <td>4</td>\n",
       "      <td>0</td>\n",
       "    </tr>\n",
       "    <tr>\n",
       "      <th>2</th>\n",
       "      <td>mIICvQHh</td>\n",
       "      <td>True</td>\n",
       "      <td>1.504130e+12</td>\n",
       "      <td>1.504130e+12</td>\n",
       "      <td>61</td>\n",
       "      <td>mate</td>\n",
       "      <td>5+10</td>\n",
       "      <td>ischia</td>\n",
       "      <td>1496</td>\n",
       "      <td>a-00</td>\n",
       "      <td>1500</td>\n",
       "      <td>e4 e5 d3 d6 Be3 c6 Be2 b5 Nd2 a5 a4 c5 axb5 Nc...</td>\n",
       "      <td>C20</td>\n",
       "      <td>King's Pawn Game: Leonardis Variation</td>\n",
       "      <td>3</td>\n",
       "      <td>2</td>\n",
       "    </tr>\n",
       "    <tr>\n",
       "      <th>3</th>\n",
       "      <td>kWKvrqYL</td>\n",
       "      <td>True</td>\n",
       "      <td>1.504110e+12</td>\n",
       "      <td>1.504110e+12</td>\n",
       "      <td>61</td>\n",
       "      <td>mate</td>\n",
       "      <td>20+0</td>\n",
       "      <td>daniamurashov</td>\n",
       "      <td>1439</td>\n",
       "      <td>adivanov2009</td>\n",
       "      <td>1454</td>\n",
       "      <td>d4 d5 Nf3 Bf5 Nc3 Nf6 Bf4 Ng4 e3 Nc6 Be2 Qd7 O...</td>\n",
       "      <td>D02</td>\n",
       "      <td>Queen's Pawn Game: Zukertort Variation</td>\n",
       "      <td>3</td>\n",
       "      <td>2</td>\n",
       "    </tr>\n",
       "    <tr>\n",
       "      <th>4</th>\n",
       "      <td>9tXo1AUZ</td>\n",
       "      <td>True</td>\n",
       "      <td>1.504030e+12</td>\n",
       "      <td>1.504030e+12</td>\n",
       "      <td>95</td>\n",
       "      <td>mate</td>\n",
       "      <td>30+3</td>\n",
       "      <td>nik221107</td>\n",
       "      <td>1523</td>\n",
       "      <td>adivanov2009</td>\n",
       "      <td>1469</td>\n",
       "      <td>e4 e5 Nf3 d6 d4 Nc6 d5 Nb4 a3 Na6 Nc3 Be7 b4 N...</td>\n",
       "      <td>C41</td>\n",
       "      <td>Philidor Defense</td>\n",
       "      <td>5</td>\n",
       "      <td>2</td>\n",
       "    </tr>\n",
       "  </tbody>\n",
       "</table>\n",
       "</div>"
      ],
      "text/plain": [
       "         id  rated    created_at  last_move_at  turns victory_status  \\\n",
       "0  TZJHLljE  False  1.504210e+12  1.504210e+12     13      outoftime   \n",
       "1  l1NXvwaE   True  1.504130e+12  1.504130e+12     16         resign   \n",
       "2  mIICvQHh   True  1.504130e+12  1.504130e+12     61           mate   \n",
       "3  kWKvrqYL   True  1.504110e+12  1.504110e+12     61           mate   \n",
       "4  9tXo1AUZ   True  1.504030e+12  1.504030e+12     95           mate   \n",
       "\n",
       "  increment_code       white_id  white_rating      black_id  black_rating  \\\n",
       "0           15+2       bourgris          1500          a-00          1191   \n",
       "1           5+10           a-00          1322     skinnerua          1261   \n",
       "2           5+10         ischia          1496          a-00          1500   \n",
       "3           20+0  daniamurashov          1439  adivanov2009          1454   \n",
       "4           30+3      nik221107          1523  adivanov2009          1469   \n",
       "\n",
       "                                               moves opening_eco  \\\n",
       "0  d4 d5 c4 c6 cxd5 e6 dxe6 fxe6 Nf3 Bb4+ Nc3 Ba5...         D10   \n",
       "1  d4 Nc6 e4 e5 f4 f6 dxe5 fxe5 fxe5 Nxe5 Qd4 Nc6...         B00   \n",
       "2  e4 e5 d3 d6 Be3 c6 Be2 b5 Nd2 a5 a4 c5 axb5 Nc...         C20   \n",
       "3  d4 d5 Nf3 Bf5 Nc3 Nf6 Bf4 Ng4 e3 Nc6 Be2 Qd7 O...         D02   \n",
       "4  e4 e5 Nf3 d6 d4 Nc6 d5 Nb4 a3 Na6 Nc3 Be7 b4 N...         C41   \n",
       "\n",
       "                             opening_name  opening_ply  winner  \n",
       "0        Slav Defense: Exchange Variation            5       2  \n",
       "1  Nimzowitsch Defense: Kennedy Variation            4       0  \n",
       "2   King's Pawn Game: Leonardis Variation            3       2  \n",
       "3  Queen's Pawn Game: Zukertort Variation            3       2  \n",
       "4                        Philidor Defense            5       2  "
      ]
     },
     "execution_count": 6,
     "metadata": {},
     "output_type": "execute_result"
    }
   ],
   "source": [
    "df.head()     #The first 5 records of the dataset"
   ]
  },
  {
   "cell_type": "code",
   "execution_count": 7,
   "id": "94ec6192",
   "metadata": {},
   "outputs": [
    {
     "data": {
      "text/plain": [
       "(20058, 16)"
      ]
     },
     "execution_count": 7,
     "metadata": {},
     "output_type": "execute_result"
    }
   ],
   "source": [
    "df.shape     #Number of records and number of attributes of the data set"
   ]
  },
  {
   "cell_type": "code",
   "execution_count": 8,
   "id": "40cead4d",
   "metadata": {},
   "outputs": [
    {
     "data": {
      "text/plain": [
       "id                 object\n",
       "rated                bool\n",
       "created_at        float64\n",
       "last_move_at      float64\n",
       "turns               int64\n",
       "victory_status     object\n",
       "increment_code     object\n",
       "white_id           object\n",
       "white_rating        int64\n",
       "black_id           object\n",
       "black_rating        int64\n",
       "moves              object\n",
       "opening_eco        object\n",
       "opening_name       object\n",
       "opening_ply         int64\n",
       "winner              int32\n",
       "dtype: object"
      ]
     },
     "execution_count": 8,
     "metadata": {},
     "output_type": "execute_result"
    }
   ],
   "source": [
    "df.dtypes     #Types of attributes found in the dataset"
   ]
  },
  {
   "cell_type": "code",
   "execution_count": 9,
   "id": "7d937f59",
   "metadata": {},
   "outputs": [],
   "source": [
    "#Removing attributes that will not be used for classification from the dataset\n",
    "df = df.drop([\"id\", \"created_at\", \"last_move_at\", \"increment_code\", \"white_id\", \"white_rating\", \"black_id\", \"black_rating\", \"moves\", \"opening_eco\", \"opening_name\", \"opening_ply\"], axis=1)"
   ]
  },
  {
   "cell_type": "code",
   "execution_count": 10,
   "id": "9f6c07fe",
   "metadata": {},
   "outputs": [
    {
     "data": {
      "text/html": [
       "<div>\n",
       "<style scoped>\n",
       "    .dataframe tbody tr th:only-of-type {\n",
       "        vertical-align: middle;\n",
       "    }\n",
       "\n",
       "    .dataframe tbody tr th {\n",
       "        vertical-align: top;\n",
       "    }\n",
       "\n",
       "    .dataframe thead th {\n",
       "        text-align: right;\n",
       "    }\n",
       "</style>\n",
       "<table border=\"1\" class=\"dataframe\">\n",
       "  <thead>\n",
       "    <tr style=\"text-align: right;\">\n",
       "      <th></th>\n",
       "      <th>turns</th>\n",
       "      <th>winner</th>\n",
       "    </tr>\n",
       "  </thead>\n",
       "  <tbody>\n",
       "    <tr>\n",
       "      <th>count</th>\n",
       "      <td>20058.000000</td>\n",
       "      <td>20058.000000</td>\n",
       "    </tr>\n",
       "    <tr>\n",
       "      <th>mean</th>\n",
       "      <td>60.465999</td>\n",
       "      <td>1.044571</td>\n",
       "    </tr>\n",
       "    <tr>\n",
       "      <th>std</th>\n",
       "      <td>33.570585</td>\n",
       "      <td>0.975038</td>\n",
       "    </tr>\n",
       "    <tr>\n",
       "      <th>min</th>\n",
       "      <td>1.000000</td>\n",
       "      <td>0.000000</td>\n",
       "    </tr>\n",
       "    <tr>\n",
       "      <th>25%</th>\n",
       "      <td>37.000000</td>\n",
       "      <td>0.000000</td>\n",
       "    </tr>\n",
       "    <tr>\n",
       "      <th>50%</th>\n",
       "      <td>55.000000</td>\n",
       "      <td>1.000000</td>\n",
       "    </tr>\n",
       "    <tr>\n",
       "      <th>75%</th>\n",
       "      <td>79.000000</td>\n",
       "      <td>2.000000</td>\n",
       "    </tr>\n",
       "    <tr>\n",
       "      <th>max</th>\n",
       "      <td>349.000000</td>\n",
       "      <td>2.000000</td>\n",
       "    </tr>\n",
       "  </tbody>\n",
       "</table>\n",
       "</div>"
      ],
      "text/plain": [
       "              turns        winner\n",
       "count  20058.000000  20058.000000\n",
       "mean      60.465999      1.044571\n",
       "std       33.570585      0.975038\n",
       "min        1.000000      0.000000\n",
       "25%       37.000000      0.000000\n",
       "50%       55.000000      1.000000\n",
       "75%       79.000000      2.000000\n",
       "max      349.000000      2.000000"
      ]
     },
     "execution_count": 10,
     "metadata": {},
     "output_type": "execute_result"
    }
   ],
   "source": [
    "df.describe()     #Arithmetic mean of attributes, standard deviation, 5-number summaries"
   ]
  },
  {
   "cell_type": "code",
   "execution_count": 11,
   "id": "053910c4",
   "metadata": {},
   "outputs": [
    {
     "data": {
      "text/plain": [
       "count     20058\n",
       "unique        2\n",
       "top        True\n",
       "freq      16155\n",
       "Name: rated, dtype: object"
      ]
     },
     "execution_count": 11,
     "metadata": {},
     "output_type": "execute_result"
    }
   ],
   "source": [
    "df[\"rated\"].describe()     #Boolean attribute properties"
   ]
  },
  {
   "cell_type": "code",
   "execution_count": 12,
   "id": "2785a028",
   "metadata": {},
   "outputs": [
    {
     "data": {
      "text/html": [
       "<div>\n",
       "<style scoped>\n",
       "    .dataframe tbody tr th:only-of-type {\n",
       "        vertical-align: middle;\n",
       "    }\n",
       "\n",
       "    .dataframe tbody tr th {\n",
       "        vertical-align: top;\n",
       "    }\n",
       "\n",
       "    .dataframe thead th {\n",
       "        text-align: right;\n",
       "    }\n",
       "</style>\n",
       "<table border=\"1\" class=\"dataframe\">\n",
       "  <thead>\n",
       "    <tr style=\"text-align: right;\">\n",
       "      <th></th>\n",
       "      <th>rated</th>\n",
       "      <th>turns</th>\n",
       "      <th>victory_status</th>\n",
       "      <th>winner</th>\n",
       "    </tr>\n",
       "  </thead>\n",
       "  <tbody>\n",
       "    <tr>\n",
       "      <th>0</th>\n",
       "      <td>False</td>\n",
       "      <td>13</td>\n",
       "      <td>outoftime</td>\n",
       "      <td>2</td>\n",
       "    </tr>\n",
       "    <tr>\n",
       "      <th>1</th>\n",
       "      <td>True</td>\n",
       "      <td>16</td>\n",
       "      <td>resign</td>\n",
       "      <td>0</td>\n",
       "    </tr>\n",
       "    <tr>\n",
       "      <th>2</th>\n",
       "      <td>True</td>\n",
       "      <td>61</td>\n",
       "      <td>mate</td>\n",
       "      <td>2</td>\n",
       "    </tr>\n",
       "    <tr>\n",
       "      <th>3</th>\n",
       "      <td>True</td>\n",
       "      <td>61</td>\n",
       "      <td>mate</td>\n",
       "      <td>2</td>\n",
       "    </tr>\n",
       "    <tr>\n",
       "      <th>4</th>\n",
       "      <td>True</td>\n",
       "      <td>95</td>\n",
       "      <td>mate</td>\n",
       "      <td>2</td>\n",
       "    </tr>\n",
       "  </tbody>\n",
       "</table>\n",
       "</div>"
      ],
      "text/plain": [
       "   rated  turns victory_status  winner\n",
       "0  False     13      outoftime       2\n",
       "1   True     16         resign       0\n",
       "2   True     61           mate       2\n",
       "3   True     61           mate       2\n",
       "4   True     95           mate       2"
      ]
     },
     "execution_count": 12,
     "metadata": {},
     "output_type": "execute_result"
    }
   ],
   "source": [
    "df.head()"
   ]
  },
  {
   "cell_type": "code",
   "execution_count": 13,
   "id": "0838033e",
   "metadata": {},
   "outputs": [
    {
     "data": {
      "image/png": "[encoded data removed]",
      "text/plain": [
       "<Figure size 640x480 with 1 Axes>"
      ]
     },
     "metadata": {},
     "output_type": "display_data"
    }
   ],
   "source": [
    "sns.boxplot(x='victory_status', y=\"turns\", data=df);"
   ]
  },
  {
   "cell_type": "code",
   "execution_count": 14,
   "id": "c19ef617",
   "metadata": {},
   "outputs": [
    {
     "data": {
      "image/png": "[encoded data removed]",
      "text/plain": [
       "<Figure size 640x480 with 1 Axes>"
      ]
     },
     "metadata": {},
     "output_type": "display_data"
    }
   ],
   "source": [
    "sns.barplot(x=\"winner\", y=\"rated\", hue=\"victory_status\", data=df).set_title(\"Chess Game Dataset\");"
   ]
  },
  {
   "cell_type": "code",
   "execution_count": 15,
   "id": "e52a055f",
   "metadata": {},
   "outputs": [
    {
     "name": "stderr",
     "output_type": "stream",
     "text": [
      "c:\\users\\chint\\appdata\\local\\programs\\python\\python37\\lib\\site-packages\\ipykernel_launcher.py:1: FutureWarning: Dropping of nuisance columns in DataFrame reductions (with 'numeric_only=None') is deprecated; in a future version this will raise TypeError.  Select only valid columns before calling the reduction.\n",
      "  \"\"\"Entry point for launching an IPython kernel.\n"
     ]
    },
    {
     "data": {
      "image/png": "[encoded data removed]",
      "text/plain": [
       "<Figure size 640x480 with 1 Axes>"
      ]
     },
     "metadata": {},
     "output_type": "display_data"
    }
   ],
   "source": [
    "sns.histplot(x=\"winner\", y=df.sum(axis=1), data=df).set_title(\"Chess Game Dataset\");"
   ]
  },
  {
   "cell_type": "markdown",
   "id": "a70fb87c",
   "metadata": {},
   "source": [
    "## Data PreProcessing"
   ]
  },
  {
   "cell_type": "code",
   "execution_count": 16,
   "id": "f1051049",
   "metadata": {},
   "outputs": [
    {
     "data": {
      "text/plain": [
       "rated             0\n",
       "turns             0\n",
       "victory_status    0\n",
       "winner            0\n",
       "dtype: int64"
      ]
     },
     "execution_count": 16,
     "metadata": {},
     "output_type": "execute_result"
    }
   ],
   "source": [
    "df.isnull().sum()     #Missing data check"
   ]
  },
  {
   "cell_type": "code",
   "execution_count": 17,
   "id": "40427d58",
   "metadata": {},
   "outputs": [
    {
     "data": {
      "text/plain": [
       "True     16155\n",
       "False     3903\n",
       "Name: rated, dtype: int64"
      ]
     },
     "execution_count": 17,
     "metadata": {},
     "output_type": "execute_result"
    }
   ],
   "source": [
    "df['rated'].value_counts()     #Finding the most frequently passed class for an attribute"
   ]
  },
  {
   "cell_type": "code",
   "execution_count": 18,
   "id": "d3c476f7",
   "metadata": {},
   "outputs": [
    {
     "data": {
      "text/plain": [
       "resign       11147\n",
       "mate          6325\n",
       "outoftime     1680\n",
       "draw           906\n",
       "Name: victory_status, dtype: int64"
      ]
     },
     "execution_count": 18,
     "metadata": {},
     "output_type": "execute_result"
    }
   ],
   "source": [
    "df['victory_status'].value_counts()     #Finding the most frequently passed class for an attribute"
   ]
  },
  {
   "cell_type": "code",
   "execution_count": 19,
   "id": "032f7002",
   "metadata": {},
   "outputs": [
    {
     "data": {
      "text/plain": [
       "2    10001\n",
       "0     9107\n",
       "1      950\n",
       "Name: winner, dtype: int64"
      ]
     },
     "execution_count": 19,
     "metadata": {},
     "output_type": "execute_result"
    }
   ],
   "source": [
    "df['winner'].value_counts()     #Finding the most frequently passed class for an attribute"
   ]
  },
  {
   "cell_type": "code",
   "execution_count": 20,
   "id": "450ccaa9",
   "metadata": {},
   "outputs": [],
   "source": [
    "df['victory_status'] = df['victory_status'].fillna(\"resign\")     #Complementing missing data with a constant value"
   ]
  },
  {
   "cell_type": "code",
   "execution_count": 21,
   "id": "a0db599a",
   "metadata": {},
   "outputs": [],
   "source": [
    "from sklearn.preprocessing import LabelEncoder     #Converting categorical data\n",
    "LE = LabelEncoder()\n",
    "df['victory_status_cat'] = LE.fit_transform(df['victory_status'])\n",
    "df['rated_cat'] = LE.fit_transform(df['rated'])"
   ]
  },
  {
   "cell_type": "code",
   "execution_count": 22,
   "id": "f3ca3706",
   "metadata": {},
   "outputs": [],
   "source": [
    "df.drop([\"victory_status\",\"rated\"], axis=1, inplace=True)"
   ]
  },
  {
   "cell_type": "code",
   "execution_count": 23,
   "id": "6f04359b",
   "metadata": {},
   "outputs": [],
   "source": [
    "from sklearn.impute import KNNImputer     #Completing missing data with KNN Algorithm\n",
    "imputer = KNNImputer(missing_values=np.nan, n_neighbors=5)\n",
    "imputer.fit(df)\n",
    "df[:] = imputer.transform(df)"
   ]
  },
  {
   "cell_type": "code",
   "execution_count": 24,
   "id": "5b327dcf",
   "metadata": {},
   "outputs": [
    {
     "data": {
      "image/png": "[encoded data removed]",
      "text/plain": [
       "<Figure size 640x480 with 1 Axes>"
      ]
     },
     "metadata": {},
     "output_type": "display_data"
    }
   ],
   "source": [
    "#Detecting outliers and filling with the mean value\n",
    "df_turns = df[\"turns\"]\n",
    "Q1 = df_turns.quantile(0.25)\n",
    "Q3 = df_turns.quantile(0.75)\n",
    "IQR = Q3-Q1\n",
    "alt_sinir = Q1 - 1.5*IQR\n",
    "ust_sinir = Q3 + 1.5*IQR\n",
    "tum_aykiriliklar = (df_turns < alt_sinir) | (df_turns > ust_sinir)\n",
    "\n",
    "df_turns[tum_aykiriliklar] = df_turns.mean()\n",
    "sns.boxplot(x='victory_status_cat', y=\"turns\", data=df);"
   ]
  },
  {
   "cell_type": "code",
   "execution_count": 25,
   "id": "c185ea52",
   "metadata": {},
   "outputs": [
    {
     "data": {
      "text/html": [
       "<div>\n",
       "<style scoped>\n",
       "    .dataframe tbody tr th:only-of-type {\n",
       "        vertical-align: middle;\n",
       "    }\n",
       "\n",
       "    .dataframe tbody tr th {\n",
       "        vertical-align: top;\n",
       "    }\n",
       "\n",
       "    .dataframe thead th {\n",
       "        text-align: right;\n",
       "    }\n",
       "</style>\n",
       "<table border=\"1\" class=\"dataframe\">\n",
       "  <thead>\n",
       "    <tr style=\"text-align: right;\">\n",
       "      <th></th>\n",
       "      <th>turns</th>\n",
       "      <th>winner</th>\n",
       "      <th>victory_status_cat</th>\n",
       "      <th>rated_cat</th>\n",
       "    </tr>\n",
       "  </thead>\n",
       "  <tbody>\n",
       "    <tr>\n",
       "      <th>0</th>\n",
       "      <td>0.085106</td>\n",
       "      <td>2.0</td>\n",
       "      <td>2.0</td>\n",
       "      <td>0.0</td>\n",
       "    </tr>\n",
       "    <tr>\n",
       "      <th>1</th>\n",
       "      <td>0.106383</td>\n",
       "      <td>0.0</td>\n",
       "      <td>3.0</td>\n",
       "      <td>1.0</td>\n",
       "    </tr>\n",
       "    <tr>\n",
       "      <th>2</th>\n",
       "      <td>0.425532</td>\n",
       "      <td>2.0</td>\n",
       "      <td>1.0</td>\n",
       "      <td>1.0</td>\n",
       "    </tr>\n",
       "    <tr>\n",
       "      <th>3</th>\n",
       "      <td>0.425532</td>\n",
       "      <td>2.0</td>\n",
       "      <td>1.0</td>\n",
       "      <td>1.0</td>\n",
       "    </tr>\n",
       "    <tr>\n",
       "      <th>4</th>\n",
       "      <td>0.666667</td>\n",
       "      <td>2.0</td>\n",
       "      <td>1.0</td>\n",
       "      <td>1.0</td>\n",
       "    </tr>\n",
       "  </tbody>\n",
       "</table>\n",
       "</div>"
      ],
      "text/plain": [
       "      turns  winner  victory_status_cat  rated_cat\n",
       "0  0.085106     2.0                 2.0        0.0\n",
       "1  0.106383     0.0                 3.0        1.0\n",
       "2  0.425532     2.0                 1.0        1.0\n",
       "3  0.425532     2.0                 1.0        1.0\n",
       "4  0.666667     2.0                 1.0        1.0"
      ]
     },
     "execution_count": 25,
     "metadata": {},
     "output_type": "execute_result"
    }
   ],
   "source": [
    "#Normalization of values in the 'turns' column\n",
    "def normalize(val):\n",
    "    val = (val-np.min(val))/(np.max(val)-np.min(val))\n",
    "    return val\n",
    "df[\"turns\"] = normalize(df[\"turns\"])\n",
    "df.head()"
   ]
  },
  {
   "cell_type": "code",
   "execution_count": 26,
   "id": "0d4cd5f9",
   "metadata": {},
   "outputs": [
    {
     "data": {
      "text/html": [
       "<div>\n",
       "<style scoped>\n",
       "    .dataframe tbody tr th:only-of-type {\n",
       "        vertical-align: middle;\n",
       "    }\n",
       "\n",
       "    .dataframe tbody tr th {\n",
       "        vertical-align: top;\n",
       "    }\n",
       "\n",
       "    .dataframe thead th {\n",
       "        text-align: right;\n",
       "    }\n",
       "</style>\n",
       "<table border=\"1\" class=\"dataframe\">\n",
       "  <thead>\n",
       "    <tr style=\"text-align: right;\">\n",
       "      <th></th>\n",
       "      <th>turns</th>\n",
       "      <th>winner</th>\n",
       "      <th>victory_status_cat</th>\n",
       "      <th>rated_cat</th>\n",
       "    </tr>\n",
       "  </thead>\n",
       "  <tbody>\n",
       "    <tr>\n",
       "      <th>0</th>\n",
       "      <td>0.085106</td>\n",
       "      <td>2.0</td>\n",
       "      <td>2.0</td>\n",
       "      <td>0.0</td>\n",
       "    </tr>\n",
       "    <tr>\n",
       "      <th>1</th>\n",
       "      <td>0.106383</td>\n",
       "      <td>0.0</td>\n",
       "      <td>3.0</td>\n",
       "      <td>1.0</td>\n",
       "    </tr>\n",
       "    <tr>\n",
       "      <th>2</th>\n",
       "      <td>0.425532</td>\n",
       "      <td>2.0</td>\n",
       "      <td>1.0</td>\n",
       "      <td>1.0</td>\n",
       "    </tr>\n",
       "    <tr>\n",
       "      <th>3</th>\n",
       "      <td>0.425532</td>\n",
       "      <td>2.0</td>\n",
       "      <td>1.0</td>\n",
       "      <td>1.0</td>\n",
       "    </tr>\n",
       "    <tr>\n",
       "      <th>4</th>\n",
       "      <td>0.666667</td>\n",
       "      <td>2.0</td>\n",
       "      <td>1.0</td>\n",
       "      <td>1.0</td>\n",
       "    </tr>\n",
       "    <tr>\n",
       "      <th>...</th>\n",
       "      <td>...</td>\n",
       "      <td>...</td>\n",
       "      <td>...</td>\n",
       "      <td>...</td>\n",
       "    </tr>\n",
       "    <tr>\n",
       "      <th>20053</th>\n",
       "      <td>0.163121</td>\n",
       "      <td>2.0</td>\n",
       "      <td>3.0</td>\n",
       "      <td>1.0</td>\n",
       "    </tr>\n",
       "    <tr>\n",
       "      <th>20054</th>\n",
       "      <td>0.574468</td>\n",
       "      <td>0.0</td>\n",
       "      <td>1.0</td>\n",
       "      <td>1.0</td>\n",
       "    </tr>\n",
       "    <tr>\n",
       "      <th>20055</th>\n",
       "      <td>0.241135</td>\n",
       "      <td>2.0</td>\n",
       "      <td>1.0</td>\n",
       "      <td>1.0</td>\n",
       "    </tr>\n",
       "    <tr>\n",
       "      <th>20056</th>\n",
       "      <td>0.765957</td>\n",
       "      <td>2.0</td>\n",
       "      <td>3.0</td>\n",
       "      <td>1.0</td>\n",
       "    </tr>\n",
       "    <tr>\n",
       "      <th>20057</th>\n",
       "      <td>0.546099</td>\n",
       "      <td>0.0</td>\n",
       "      <td>1.0</td>\n",
       "      <td>1.0</td>\n",
       "    </tr>\n",
       "  </tbody>\n",
       "</table>\n",
       "<p>20058 rows × 4 columns</p>\n",
       "</div>"
      ],
      "text/plain": [
       "          turns  winner  victory_status_cat  rated_cat\n",
       "0      0.085106     2.0                 2.0        0.0\n",
       "1      0.106383     0.0                 3.0        1.0\n",
       "2      0.425532     2.0                 1.0        1.0\n",
       "3      0.425532     2.0                 1.0        1.0\n",
       "4      0.666667     2.0                 1.0        1.0\n",
       "...         ...     ...                 ...        ...\n",
       "20053  0.163121     2.0                 3.0        1.0\n",
       "20054  0.574468     0.0                 1.0        1.0\n",
       "20055  0.241135     2.0                 1.0        1.0\n",
       "20056  0.765957     2.0                 3.0        1.0\n",
       "20057  0.546099     0.0                 1.0        1.0\n",
       "\n",
       "[20058 rows x 4 columns]"
      ]
     },
     "execution_count": 26,
     "metadata": {},
     "output_type": "execute_result"
    }
   ],
   "source": [
    "df #Data set to apply Machine Learning Algorithm"
   ]
  },
  {
   "cell_type": "markdown",
   "id": "59e5a33f",
   "metadata": {},
   "source": [
    "## Preparing the training and test set"
   ]
  },
  {
   "cell_type": "code",
   "execution_count": 27,
   "id": "4acc61ee",
   "metadata": {},
   "outputs": [],
   "source": [
    "X = df.loc[:,(\"turns\", \"victory_status_cat\", \"rated_cat\")]     #Dataset consisting only of features\n",
    "y = df.loc[:,\"winner\"] # Sınıf etiketi\n",
    "#Dividing the dataset as 70% train, 30% test\n",
    "from sklearn.model_selection import train_test_split\n",
    "X_train, X_test, y_train, y_test = train_test_split(X, y, test_size = 0.30, random_state = 42)"
   ]
  },
  {
   "cell_type": "code",
   "execution_count": 28,
   "id": "b16c018b",
   "metadata": {},
   "outputs": [],
   "source": [
    "## Carrying out the Training"
   ]
  },
  {
   "cell_type": "code",
   "execution_count": 29,
   "id": "4e2f6d40",
   "metadata": {},
   "outputs": [
    {
     "data": {
      "text/plain": [
       "DecisionTreeClassifier()"
      ]
     },
     "execution_count": 29,
     "metadata": {},
     "output_type": "execute_result"
    }
   ],
   "source": [
    "#Training the model with the Decision Tree Algorithm\n",
    "from sklearn.tree import DecisionTreeClassifier\n",
    "dt_model = DecisionTreeClassifier()\n",
    "dt_model.fit(X_train, y_train)"
   ]
  },
  {
   "cell_type": "code",
   "execution_count": 30,
   "id": "2f955f55",
   "metadata": {},
   "outputs": [
    {
     "data": {
      "text/plain": [
       "0.8911598537720172"
      ]
     },
     "execution_count": 30,
     "metadata": {},
     "output_type": "execute_result"
    }
   ],
   "source": [
    "#Classification of the model with test data\n",
    "y_test_dt = dt_model.predict(X_test)\n",
    "#Demonstrating the classification prediction success of the model\n",
    "from sklearn.metrics import accuracy_score\n",
    "acc_dt = accuracy_score(y_test, y_test_dt)\n",
    "acc_dt"
   ]
  },
  {
   "cell_type": "code",
   "execution_count": 31,
   "id": "748be419",
   "metadata": {},
   "outputs": [
    {
     "data": {
      "text/plain": [
       "KNeighborsClassifier()"
      ]
     },
     "execution_count": 31,
     "metadata": {},
     "output_type": "execute_result"
    }
   ],
   "source": [
    "#Training the model with the KNN Algorithm\n",
    "from sklearn.neighbors import KNeighborsClassifier\n",
    "knn_model = KNeighborsClassifier(n_neighbors=5, metric='minkowski', p = 2)\n",
    "knn_model.fit(X_train, y_train)"
   ]
  },
  {
   "cell_type": "code",
   "execution_count": 32,
   "id": "9f0db82f",
   "metadata": {},
   "outputs": [],
   "source": [
    "#Classification of the model with test data\n",
    "y_test_knn = knn_model.predict(X_test)"
   ]
  },
  {
   "cell_type": "code",
   "execution_count": 33,
   "id": "43aed7c6",
   "metadata": {},
   "outputs": [
    {
     "data": {
      "text/plain": [
       "0.8622465935526753"
      ]
     },
     "execution_count": 33,
     "metadata": {},
     "output_type": "execute_result"
    }
   ],
   "source": [
    "#Demonstrating the classification prediction success of the model\n",
    "from sklearn.metrics import accuracy_score\n",
    "acc_knn = accuracy_score(y_test, y_test_knn)\n",
    "acc_knn"
   ]
  },
  {
   "cell_type": "code",
   "execution_count": 34,
   "id": "dcedfb6c",
   "metadata": {},
   "outputs": [
    {
     "data": {
      "text/plain": [
       "CategoricalNB()"
      ]
     },
     "execution_count": 34,
     "metadata": {},
     "output_type": "execute_result"
    }
   ],
   "source": [
    "#Training the model with Naive Bayes Algorithm\n",
    "from sklearn.naive_bayes import CategoricalNB\n",
    "nb_model = CategoricalNB()\n",
    "nb_model.fit(X_train, y_train)"
   ]
  },
  {
   "cell_type": "code",
   "execution_count": 35,
   "id": "04dd86f9",
   "metadata": {},
   "outputs": [
    {
     "data": {
      "text/plain": [
       "0.5461947490860751"
      ]
     },
     "execution_count": 35,
     "metadata": {},
     "output_type": "execute_result"
    }
   ],
   "source": [
    "#Classification of the model with test data\n",
    "y_test_nb = nb_model.predict(X_test)\n",
    "#Demonstrating the classification prediction success of the model\n",
    "from sklearn.metrics import accuracy_score\n",
    "acc_nb = accuracy_score(y_test, y_test_nb)\n",
    "acc_nb"
   ]
  },
  {
   "cell_type": "markdown",
   "id": "d0d75043",
   "metadata": {},
   "source": [
    "## Saving and Reusing Classifier Models"
   ]
  },
  {
   "cell_type": "code",
   "execution_count": 36,
   "id": "9b809eec",
   "metadata": {},
   "outputs": [
    {
     "data": {
      "text/plain": [
       "0.8911598537720172"
      ]
     },
     "execution_count": 36,
     "metadata": {},
     "output_type": "execute_result"
    }
   ],
   "source": [
    "#Decision Tree\n",
    "import pickle\n",
    "with open('dtmodel.pkl', 'wb') as f:\n",
    "        pickle.dump(dt_model, f)\n",
    "dt_model_2 = pickle.load(open('dtmodel.pkl', 'rb'))\n",
    "y_test_dt_2 = dt_model_2.predict(X_test)\n",
    "#Demonstrating the prediction accuracy of the Decision Tree model\n",
    "acc_dt_2 = accuracy_score(y_test, y_test_dt_2)\n",
    "acc_dt_2"
   ]
  },
  {
   "cell_type": "code",
   "execution_count": 38,
   "id": "6e228701",
   "metadata": {},
   "outputs": [],
   "source": [
    "#KNN\n",
    "import pickle\n",
    "with open('knnmodel.pkl', 'wb') as f:\n",
    "        pickle.dump(knn_model, f)"
   ]
  },
  {
   "cell_type": "code",
   "execution_count": 39,
   "id": "60758949",
   "metadata": {},
   "outputs": [],
   "source": [
    "knn_model_2 = pickle.load(open('knnmodel.pkl', 'rb'))\n",
    "y_test_knn_2 = knn_model_2.predict(X_test)"
   ]
  },
  {
   "cell_type": "code",
   "execution_count": 40,
   "id": "7aa877a3",
   "metadata": {},
   "outputs": [
    {
     "data": {
      "text/plain": [
       "0.8622465935526753"
      ]
     },
     "execution_count": 40,
     "metadata": {},
     "output_type": "execute_result"
    }
   ],
   "source": [
    "#Demonstrating the predictive accuracy of the KNN model\n",
    "acc_knn_2 = accuracy_score(y_test, y_test_knn_2)\n",
    "acc_knn_2"
   ]
  },
  {
   "cell_type": "code",
   "execution_count": 41,
   "id": "5dca4d27",
   "metadata": {},
   "outputs": [
    {
     "data": {
      "text/plain": [
       "0.5461947490860751"
      ]
     },
     "execution_count": 41,
     "metadata": {},
     "output_type": "execute_result"
    }
   ],
   "source": [
    "#Naive Bayes\n",
    "import pickle\n",
    "with open('nbmodel.pkl', 'wb') as f:\n",
    "        pickle.dump(nb_model, f)\n",
    "nb_model_2 = pickle.load(open('nbmodel.pkl', 'rb'))\n",
    "y_test_nb_2 = nb_model_2.predict(X_test)\n",
    "#Demonstrating the predictive accuracy of the Naive Bayes model\n",
    "acc_nb_2 = accuracy_score(y_test, y_test_nb_2)\n",
    "acc_nb_2"
   ]
  },
  {
   "cell_type": "markdown",
   "id": "4e263dfd",
   "metadata": {},
   "source": [
    "## Displaying Results on a Complexity Matrix"
   ]
  },
  {
   "cell_type": "code",
   "execution_count": 42,
   "id": "e611f8f8",
   "metadata": {},
   "outputs": [
    {
     "data": {
      "text/plain": [
       "array([[2392,    0,  327],\n",
       "       [   9,  260,    5],\n",
       "       [ 311,    3, 2711]], dtype=int64)"
      ]
     },
     "execution_count": 42,
     "metadata": {},
     "output_type": "execute_result"
    }
   ],
   "source": [
    "#Decision Tree\n",
    "from sklearn.metrics import confusion_matrix\n",
    "confusion_matrix(y_test, y_test_dt_2, labels=[0,1,2])"
   ]
  },
  {
   "cell_type": "code",
   "execution_count": 43,
   "id": "b5542a0d",
   "metadata": {},
   "outputs": [
    {
     "data": {
      "text/plain": [
       "array([[2351,    0,  368],\n",
       "       [   5,  260,    9],\n",
       "       [ 445,    2, 2578]], dtype=int64)"
      ]
     },
     "execution_count": 43,
     "metadata": {},
     "output_type": "execute_result"
    }
   ],
   "source": [
    "#KNN\n",
    "from sklearn.metrics import confusion_matrix\n",
    "confusion_matrix(y_test, y_test_knn_2, labels=[0,1,2])"
   ]
  },
  {
   "cell_type": "code",
   "execution_count": 44,
   "id": "79d43fc9",
   "metadata": {},
   "outputs": [
    {
     "data": {
      "text/plain": [
       "array([[   2,    0, 2717],\n",
       "       [   0,  260,   14],\n",
       "       [   0,    0, 3025]], dtype=int64)"
      ]
     },
     "execution_count": 44,
     "metadata": {},
     "output_type": "execute_result"
    }
   ],
   "source": [
    "#Naive Bayes\n",
    "from sklearn.metrics import confusion_matrix\n",
    "confusion_matrix(y_test, y_test_nb_2, labels=[0,1,2])"
   ]
  },
  {
   "cell_type": "code",
   "execution_count": null,
   "id": "71597257",
   "metadata": {},
   "outputs": [],
   "source": []
  },
  {
   "cell_type": "code",
   "execution_count": null,
   "id": "9d1631c5",
   "metadata": {},
   "outputs": [],
   "source": []
  },
  {
   "cell_type": "code",
   "execution_count": null,
   "id": "0aa0aa32",
   "metadata": {},
   "outputs": [],
   "source": []
  }
 ],
 "metadata": {
  "kernelspec": {
   "display_name": "Python 3 (ipykernel)",
   "language": "python",
   "name": "python3"
  },
  "language_info": {
   "codemirror_mode": {
    "name": "ipython",
    "version": 3
   },
   "file_extension": ".py",
   "mimetype": "text/x-python",
   "name": "python",
   "nbconvert_exporter": "python",
   "pygments_lexer": "ipython3",
   "version": "3.7.5"
  }
 },
 "nbformat": 4,
 "nbformat_minor": 5
}
